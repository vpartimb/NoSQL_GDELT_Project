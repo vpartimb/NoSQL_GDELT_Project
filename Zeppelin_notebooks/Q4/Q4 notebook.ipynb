﻿{
  "metadata": {
    "name": "Q4",
    "kernelspec": {
      "language": "scala",
      "name": "spark2-scala"
    },
    "language_info": {
      "codemirror_mode": "text/x-scala",
      "file_extension": ".scala",
      "mimetype": "text/x-scala",
      "name": "scala",
      "pygments_lexer": "scala"
    }
  },
  "nbformat": 4,
  "nbformat_minor": 2,
  "cells": [
    {
      "cell_type": "code",
      "execution_count": 0,
      "metadata": {
        "autoscroll": "auto"
      },
      "outputs": [],
      "source": "import sys.process._\nimport java.net.{URL, HttpURLConnection}\nimport java.nio.file.{Files,StandardCopyOption}\nimport java.io.File\n\nimport org.apache.spark.sql.functions._\nimport org.apache.spark.sql.SQLContext\nimport org.apache.spark.input.PortableDataStream\nimport java.util.zip.ZipInputStream\nimport java.io.BufferedReader\nimport java.io.InputStreamReader"
    },
    {
      "cell_type": "code",
      "execution_count": 1,
      "metadata": {
        "autoscroll": "auto"
      },
      "outputs": [],
      "source": "// MENTIONS : Données en anglais + translingual\r\nval Mentions_RDD \u003d sc.binaryFiles(\"/Volumes/ARMAND/gdelt_project_data/2021*.mentions.CSV.zip\")\r\n    .flatMap { case (name: String, content: PortableDataStream) \u003d\u003e\r\n    val zis \u003d new ZipInputStream(content.open)\r\n    Stream.continually(zis.getNextEntry)\r\n          .takeWhile(_ !\u003d null)\r\n          .flatMap { _ \u003d\u003e\r\n              val br \u003d new BufferedReader(new InputStreamReader(zis))\r\n              Stream.continually(br.readLine()).takeWhile(_ !\u003d null)\r\n          }\r\n  }\r\nval Mentions_tmp \u003d Mentions_RDD.map(x \u003d\u003e x.split(\"\\t\")).toDF()   \r\n\r\n\r\n// EVENTS: Données en anglais + translingual\r\nval Events_RDD \u003d sc.binaryFiles(\"/Volumes/ARMAND/gdelt_project_data/2021*.export.CSV.zip\")\r\n   .flatMap { case (name: String, content: PortableDataStream) \u003d\u003e\r\n    val zis \u003d new ZipInputStream(content.open)\r\n    Stream.continually(zis.getNextEntry)\r\n          .takeWhile(_ !\u003d null)\r\n          .flatMap { _ \u003d\u003e\r\n              val br \u003d new BufferedReader(new InputStreamReader(zis))\r\n              Stream.continually(br.readLine()).takeWhile(_ !\u003d null)\r\n          }\r\n  }\r\nval Events_tmp \u003d Events_RDD.map(x \u003d\u003e x.split(\"\\t\")).toDF()\r\n\r\n\r\n// GKG : Données en anglais\r\nval Gkg_RDD \u003d sc.binaryFiles(\"/Volumes/ARMAND/gdelt_project_data/2021*.gkg.csv.zip\").\r\n  flatMap {  // decompresser les fichiers\r\n       case (name: String, content: PortableDataStream) \u003d\u003e\r\n          val zis \u003d new ZipInputStream(content.open)\r\n          Stream.continually(zis.getNextEntry).\r\n                takeWhile{case null \u003d\u003e zis.close(); false\r\n                       case _ \u003d\u003e true}.\r\n                flatMap { _ \u003d\u003e\r\n                    val br \u003d new BufferedReader(new InputStreamReader(zis))\r\n                    Stream.continually(br.readLine()).takeWhile(_ !\u003d null)\r\n                }\r\n    }\r\nval Gkg_tmp \u003d Gkg_RDD.map(_.split(\"\\t\")).toDF()"
    },
    {
      "cell_type": "code",
      "execution_count": 2,
      "metadata": {
        "autoscroll": "auto"
      },
      "outputs": [],
      "source": "// Champs de la table events récupérés :\nval Events_DF_bis \u003d Events_tmp.select(\n    $\"value\".getItem(0).as(\"Globaleventid\"),\n    $\"value\".getItem(1).as(\"YearMonthDay\"),\n    $\"value\".getItem(2).as(\"YearMonth\"),\n    $\"value\".getItem(3).as(\"Year\"),\n    $\"value\".getItem(31).as(\"NumMention\"),\n    $\"value\".getItem(53).as(\"Country\"),\n    $\"value\".getItem(60).as(\"SourceUrl\"),\n    $\"value\".getItem(30).as(\"GoldsteinScore\")\n    )\n    \n    \n// Champs de la table Mentions récupérés :\nval Mentions_DF_bis \u003d Mentions_tmp.select(\n    $\"value\".getItem(0).as(\"Globaleventid\"),\n    $\"value\".getItem(1).as(\"EventTimeDate\"),\n    $\"value\".getItem(2).as(\"MentionTimeDate\"),\n    $\"value\".getItem(5).as(\"MentionIdentifier\"),\n    $\"value\".getItem(14).as(\"ArticleLanguage\")\n    )\n    \n// Champs de la table Gkg récupérés :  \nval Gkg_DF_bis \u003d Gkg_tmp.select(\n    $\"value\".getItem(0).as(\"GkgRecordId\"), \n    //$\"value\".getItem(1).as(\"DATE\"),\n    $\"value\".getItem(3).as(\"SourceCommonName\"),\n    $\"value\".getItem(4).as(\"DocumentIdentifier\"),\n    $\"value\".getItem(7).as(\"Themes\"),\n    $\"value\".getItem(9).as(\"Locations\"),\n    $\"value\".getItem(11).as(\"Persons\"),\n    $\"value\".getItem(15).as(\"Tone\")\n    )\n   \n\n   \n\n"
    },
    {
      "cell_type": "code",
      "execution_count": 3,
      "metadata": {
        "autoscroll": "auto"
      },
      "outputs": [],
      "source": "// Preprocessing de la colonne Day, MonthYear et NumMention pour Events      \nval Events_DF \u003d Events_DF_bis.withColumn(\"NumMention\", Events_DF_bis(\"NumMention\").cast(\"Int\"))\n\n/*.withColumn(\"Day\", substring(col(\"Day\"), 7 , 2))    .withColumn(\"MonthYear\", substring(col(\"MonthYear\"), 5 , 2))*/\n\n// Preprocessing de la colonne Language pour Mentions\nval Mentions_DF \u003d Mentions_DF_bis.withColumn(\"ArticleLanguage\", when(col(\"ArticleLanguage\").isNull, \"eng\").otherwise(substring_index(substring_index(col(\"ArticleLanguage\"), \";\",1) , \":\", -1)))\n\n// Preprocessing de la colonne Locations et Tone pour Gkg\nval Gkg_DF_bis2 \u003d Gkg_DF_bis.withColumn(\"Locations\", when(col(\"Locations\").isNull, \"\").otherwise(substring_index(substring_index(col(\"Locations\"), \"#\", 2) , \"#\", -1))).withColumn(\"Tone\", substring_index(col(\"Tone\"), \",\" , 1))"
    },
    {
      "cell_type": "code",
      "execution_count": 4,
      "metadata": {
        "autoscroll": "auto"
      },
      "outputs": [],
      "source": "// Preprocessing de la colonne Tone pour Gkg\nval Gkg_DF \u003d Gkg_DF_bis2.withColumn(\"Tone\", Gkg_DF_bis2(\"Tone\").cast(\"float\"))"
    },
    {
      "cell_type": "code",
      "execution_count": 5,
      "metadata": {
        "autoscroll": "auto"
      },
      "outputs": [],
      "source": "Events_DF.show()"
    },
    {
      "cell_type": "code",
      "execution_count": 6,
      "metadata": {
        "autoscroll": "auto"
      },
      "outputs": [],
      "source": "Mentions_DF.show()"
    },
    {
      "cell_type": "code",
      "execution_count": 7,
      "metadata": {
        "autoscroll": "auto"
      },
      "outputs": [],
      "source": "Gkg_DF.show()"
    },
    {
      "cell_type": "code",
      "execution_count": 8,
      "metadata": {
        "autoscroll": "auto"
      },
      "outputs": [],
      "source": "// Nombre d\u0027articles parlant du covid + nombre d\u0027évènements liés au covid\n\nval Q4_Gkg_int \u003d Gkg_DF.filter($\"Themes\".like(\"%CORONAVIRUS%\"))\nval Q4_join \u003d Mentions_DF.join(Q4_Gkg_int, $\"MentionIdentifier\" \u003d\u003d\u003d $\"DocumentIdentifier\")\nval Q4_final \u003d Events_DF.join(Q4_join, \"Globaleventid\")\nQ4_final.createOrReplaceTempView(\"Table4\")\nz.show(spark.sql(\"\"\" SELECT count(Globaleventid) as ArticlesNumber, count(DISTINCT Globaleventid) as EventsNumber  FROM Table4 WHERE Country \u003d \u0027FR\u0027 \"\"\"))"
    },
    {
      "cell_type": "code",
      "execution_count": 9,
      "metadata": {
        "autoscroll": "auto"
      },
      "outputs": [],
      "source": "// Nombre d\u0027évènements totaux sur ces 2j\n\nEvents_DF.createOrReplaceTempView(\"Table_Events\")\nz.show(spark.sql(\"\"\" SELECT count(DISTINCT Globaleventid) as EventsNumber  FROM Table_Events WHERE Country \u003d \u0027FR\u0027 \"\"\"))"
    },
    {
      "cell_type": "code",
      "execution_count": 10,
      "metadata": {
        "autoscroll": "auto"
      },
      "outputs": [],
      "source": "// Nombre d\u0027articles totaux sur ces 2j\n\nval Q4_join_1 \u003d Mentions_DF.join(Gkg_DF, $\"MentionIdentifier\" \u003d\u003d\u003d $\"DocumentIdentifier\")\nval Q4_final_1 \u003d Events_DF.join(Q4_join_1, \"Globaleventid\")\nQ4_final_1.createOrReplaceTempView(\"Table5\")\n//Nombre de mentions\nz.show(spark.sql(\"\"\" SELECT count(Globaleventid) as ArticlesNumber  FROM Table5 WHERE Country \u003d \u0027FR\u0027\"\"\"))"
    },
    {
      "cell_type": "code",
      "execution_count": 11,
      "metadata": {
        "autoscroll": "auto"
      },
      "outputs": [],
      "source": "// Score GS et Ton moyen sur ces 2j\n\nz.show(spark.sql(\"\"\" SELECT mean(GoldsteinScore) as MeanGS, mean(Tone) as MeanTone  FROM Table4 WHERE Country \u003d \u0027FR\u0027\"\"\"))"
    }
  ]
}